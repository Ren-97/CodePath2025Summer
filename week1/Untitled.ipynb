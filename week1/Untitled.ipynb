{
 "cells": [
  {
   "cell_type": "code",
   "execution_count": 1,
   "id": "f57c553e-68cf-4cc1-b760-2ffc20131cf3",
   "metadata": {},
   "outputs": [],
   "source": [
    "def reverse_sentence(sentence):\n",
    "    new_list = sentence.split(\" \")\n",
    "    new_list = new_list[::-1]\n",
    "    return ' '.join(new_list)"
   ]
  },
  {
   "cell_type": "code",
   "execution_count": 2,
   "id": "6d0b4e20-77bc-4a0a-81ac-ee2f4d2b13dc",
   "metadata": {},
   "outputs": [
    {
     "data": {
      "text/plain": [
       "'fluff with stuffed all cubby little tubby'"
      ]
     },
     "execution_count": 2,
     "metadata": {},
     "output_type": "execute_result"
    }
   ],
   "source": [
    "sentence = \"tubby little cubby all stuffed with fluff\"\n",
    "reverse_sentence(sentence)"
   ]
  },
  {
   "cell_type": "code",
   "execution_count": 3,
   "id": "546d4dd7-0d18-4569-82a7-1a7754dfc476",
   "metadata": {},
   "outputs": [
    {
     "data": {
      "text/plain": [
       "'Pooh'"
      ]
     },
     "execution_count": 3,
     "metadata": {},
     "output_type": "execute_result"
    }
   ],
   "source": [
    "sentence = \"Pooh\"\n",
    "reverse_sentence(sentence)"
   ]
  },
  {
   "cell_type": "code",
   "execution_count": 22,
   "id": "1c34a8e1-a022-40e7-91bd-a28ec14f6db6",
   "metadata": {},
   "outputs": [],
   "source": [
    "def goldilocks_approved(nums):\n",
    "    max_num = max(nums)\n",
    "    min_num = min(nums)\n",
    "    if len(nums) <= 2:\n",
    "        return -1\n",
    "\n",
    "    res = []\n",
    "    for i in nums:\n",
    "        if i != max_num and i != min_num:\n",
    "            res.append(i)\n",
    "    return min(res)"
   ]
  },
  {
   "cell_type": "code",
   "execution_count": 23,
   "id": "6e65d85c-07d3-4330-b22f-fd186dbdb4d0",
   "metadata": {},
   "outputs": [
    {
     "name": "stdout",
     "output_type": "stream",
     "text": [
      "2\n",
      "-1\n",
      "2\n"
     ]
    }
   ],
   "source": [
    "nums = [3, 2, 1, 4]\n",
    "print(goldilocks_approved(nums))\n",
    "\n",
    "nums = [1, 2]\n",
    "print(goldilocks_approved(nums))\n",
    "\n",
    "nums = [3,1,2]\n",
    "print(goldilocks_approved(nums))"
   ]
  },
  {
   "cell_type": "code",
   "execution_count": 38,
   "id": "cd6f9fc0-c426-422a-8531-254fb5a6cb1d",
   "metadata": {},
   "outputs": [],
   "source": [
    "def delete_minimum_elements(hunny_jar_sizes):\n",
    "    new_list = []\n",
    "    while hunny_jar_sizes:\n",
    "        element = min(hunny_jar_sizes)\n",
    "        new_list.append(element)\n",
    "        hunny_jar_sizes.remove(element)\n",
    "    return new_list"
   ]
  },
  {
   "cell_type": "code",
   "execution_count": 39,
   "id": "ee9429ff-b126-46aa-a559-647271cdade5",
   "metadata": {},
   "outputs": [
    {
     "name": "stdout",
     "output_type": "stream",
     "text": [
      "[1, 2, 3, 4, 5]\n",
      "[1, 2, 2, 5, 8]\n"
     ]
    }
   ],
   "source": [
    "hunny_jar_sizes = [5, 3, 2, 4, 1]\n",
    "print(delete_minimum_elements(hunny_jar_sizes))\n",
    "\n",
    "hunny_jar_sizes = [5, 2, 1, 8, 2]\n",
    "print(delete_minimum_elements(hunny_jar_sizes))"
   ]
  },
  {
   "cell_type": "code",
   "execution_count": 46,
   "id": "a98cd042-d055-439c-a43c-571a766d1d32",
   "metadata": {},
   "outputs": [],
   "source": [
    "def sum_of_digits(num):\n",
    "    num = abs(num)\n",
    "    total = 0\n",
    "    while num > 0:\n",
    "        reminder = num % 10\n",
    "        num //= 10\n",
    "        total += reminder     \n",
    "    return res"
   ]
  },
  {
   "cell_type": "code",
   "execution_count": 47,
   "id": "65a73397-d572-499d-9018-dc71a1c38c4a",
   "metadata": {},
   "outputs": [
    {
     "data": {
      "text/plain": [
       "9"
      ]
     },
     "execution_count": 47,
     "metadata": {},
     "output_type": "execute_result"
    }
   ],
   "source": [
    "num = 423\n",
    "sum_of_digits(num)"
   ]
  }
 ],
 "metadata": {
  "kernelspec": {
   "display_name": "Python 3 (ipykernel)",
   "language": "python",
   "name": "python3"
  },
  "language_info": {
   "codemirror_mode": {
    "name": "ipython",
    "version": 3
   },
   "file_extension": ".py",
   "mimetype": "text/x-python",
   "name": "python",
   "nbconvert_exporter": "python",
   "pygments_lexer": "ipython3",
   "version": "3.12.3"
  }
 },
 "nbformat": 4,
 "nbformat_minor": 5
}
