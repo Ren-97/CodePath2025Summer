{
 "cells": [
  {
   "cell_type": "code",
   "execution_count": 1,
   "id": "4e383308-7940-418b-a569-ea37a0ecaf13",
   "metadata": {},
   "outputs": [],
   "source": [
    "def welcome():\n",
    "    return(\"Welcome to Hundred Acre Wood\")"
   ]
  },
  {
   "cell_type": "code",
   "execution_count": 6,
   "id": "cb6a2e94-9314-4292-9fe5-cf41c0c85ab4",
   "metadata": {},
   "outputs": [
    {
     "name": "stdout",
     "output_type": "stream",
     "text": [
      "Welcome to Hundred Acre Woodbruce! My name is ren.\n"
     ]
    }
   ],
   "source": [
    "def greeting(name):\n",
    "    intro = welcome()\n",
    "    print(f\"{intro}{name}! My name is ren.\")\n",
    "    \n",
    "greeting('bruce')"
   ]
  },
  {
   "cell_type": "code",
   "execution_count": 14,
   "id": "53ad2427-318f-4a39-bd1c-a5ed2bf7d187",
   "metadata": {},
   "outputs": [
    {
     "name": "stdout",
     "output_type": "stream",
     "text": [
      "None\n"
     ]
    }
   ],
   "source": [
    "def get_item(items, x):\n",
    "    if len(items) >= x:\n",
    "        return None\n",
    "    else:\n",
    "        return items[x]\n",
    "\n",
    "items = [\"piglet\", \"pooh\", \"roo\", \"rabbit\"]\n",
    "x = 1\n",
    "print(get_item(items, x))"
   ]
  },
  {
   "cell_type": "code",
   "execution_count": 16,
   "id": "41b91e85-8d72-499d-ba87-73a9abf8b3c8",
   "metadata": {},
   "outputs": [
    {
     "data": {
      "text/plain": [
       "[2, 4, 6]"
      ]
     },
     "execution_count": 16,
     "metadata": {},
     "output_type": "execute_result"
    }
   ],
   "source": [
    "def doubled(hunny_jars):\n",
    "    return [h * 2 for h in hunny_jars]\n",
    "hunny_jars = [1, 2, 3]\n",
    "doubled(hunny_jars)"
   ]
  },
  {
   "cell_type": "code",
   "execution_count": 18,
   "id": "ddac6480-3ed3-4d8a-ad59-6cd26abe4e49",
   "metadata": {},
   "outputs": [
    {
     "data": {
      "text/plain": [
       "0"
      ]
     },
     "execution_count": 18,
     "metadata": {},
     "output_type": "execute_result"
    }
   ],
   "source": [
    "def count_less_than(race_times, threshold):\n",
    "    return sum(1 for time in race_times if time < threshold)\n",
    "race_times = [1, 2, 3, 4, 5, 6]\n",
    "threshold = 4\n",
    "count_less_than(race_times, threshold)\n",
    "\n",
    "race_times = []\n",
    "threshold = 4\n",
    "count_less_than(race_times, threshold)"
   ]
  },
  {
   "cell_type": "code",
   "execution_count": 19,
   "id": "2e800e1d-e778-4c3d-b983-cb7b34109e60",
   "metadata": {},
   "outputs": [],
   "source": [
    "def print_todo_list(tasks):\n",
    "    print(\"Pooh's To Dos:\")\n",
    "    for i, task in enumerate(tasks, start=1):\n",
    "        print(f\"{i}. {task}\")"
   ]
  },
  {
   "cell_type": "code",
   "execution_count": 20,
   "id": "4de479be-8634-4ee7-8111-e39174280e64",
   "metadata": {},
   "outputs": [
    {
     "name": "stdout",
     "output_type": "stream",
     "text": [
      "Pooh's To Dos:\n",
      "1. Count all the bees in the hive\n",
      "2. Chase all the clouds from the sky\n",
      "3. Think\n",
      "4. Stoutness Exercises\n"
     ]
    }
   ],
   "source": [
    "task = [\"Count all the bees in the hive\", \"Chase all the clouds from the sky\", \"Think\", \"Stoutness Exercises\"]\n",
    "print_todo_list(task)"
   ]
  },
  {
   "cell_type": "code",
   "execution_count": null,
   "id": "83677e15-fa97-4818-abd6-e0c3913b2ac9",
   "metadata": {},
   "outputs": [],
   "source": []
  }
 ],
 "metadata": {
  "kernelspec": {
   "display_name": "Python 3 (ipykernel)",
   "language": "python",
   "name": "python3"
  },
  "language_info": {
   "codemirror_mode": {
    "name": "ipython",
    "version": 3
   },
   "file_extension": ".py",
   "mimetype": "text/x-python",
   "name": "python",
   "nbconvert_exporter": "python",
   "pygments_lexer": "ipython3",
   "version": "3.12.3"
  }
 },
 "nbformat": 4,
 "nbformat_minor": 5
}
